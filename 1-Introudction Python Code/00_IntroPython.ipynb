{
  "nbformat": 4,
  "nbformat_minor": 0,
  "metadata": {
    "colab": {
      "name": "Untitled13.ipynb",
      "provenance": [],
      "collapsed_sections": []
    },
    "kernelspec": {
      "name": "python3",
      "display_name": "Python 3"
    },
    "language_info": {
      "name": "python"
    }
  },
  "cells": [
    {
      "cell_type": "markdown",
      "source": [
        "# Introduction to Python on Google Colab"
      ],
      "metadata": {
        "id": "ASfS865bZOqU"
      }
    },
    {
      "cell_type": "markdown",
      "source": [
        "WALISA ROMSAIYUD - STOU"
      ],
      "metadata": {
        "id": "KZxT2tvAZvqG"
      }
    },
    {
      "cell_type": "code",
      "execution_count": 15,
      "metadata": {
        "colab": {
          "base_uri": "https://localhost:8080/"
        },
        "id": "dDQ3Bh-sYIM-",
        "outputId": "b034a5ed-e646-4ef1-cb6c-ec6690605693"
      },
      "outputs": [
        {
          "output_type": "stream",
          "name": "stdout",
          "text": [
            "Hello Google Colab\n"
          ]
        }
      ],
      "source": [
        "print(\"Hello Google Colab\")"
      ]
    },
    {
      "cell_type": "markdown",
      "source": [
        "**1) COMMENTS**"
      ],
      "metadata": {
        "id": "_S3mOHgPcfQx"
      }
    },
    {
      "cell_type": "code",
      "source": [
        "#Single line comment\n",
        "print(\"Hello Google Colab\") #first command"
      ],
      "metadata": {
        "colab": {
          "base_uri": "https://localhost:8080/"
        },
        "id": "hPxWp_zBaKfq",
        "outputId": "131f6347-e74b-41e5-c64c-0776c60bd1a8"
      },
      "execution_count": 16,
      "outputs": [
        {
          "output_type": "stream",
          "name": "stdout",
          "text": [
            "Hello Google Colab\n"
          ]
        }
      ]
    },
    {
      "cell_type": "code",
      "source": [
        "#Multiline comments\n",
        "x = 5\n",
        "y = \"Google\"\n",
        "z = \"Colab\"\n",
        "print(x)\n",
        "print(y)\n",
        "print(z)"
      ],
      "metadata": {
        "colab": {
          "base_uri": "https://localhost:8080/"
        },
        "id": "x02huJJHag4p",
        "outputId": "d9872895-4e48-4f85-9936-785761062c58"
      },
      "execution_count": 17,
      "outputs": [
        {
          "output_type": "stream",
          "name": "stdout",
          "text": [
            "5\n",
            "Google\n",
            "Colab\n"
          ]
        }
      ]
    },
    {
      "cell_type": "markdown",
      "source": [
        "**2) VARIABLES**"
      ],
      "metadata": {
        "id": "avmtSSVdcvm9"
      }
    },
    {
      "cell_type": "code",
      "source": [
        "#Python basic operators\n",
        "num1 = 10    # int\n",
        "num2 = 5.2   # float\n",
        "num3 = num1+num2\n",
        "print(num3)"
      ],
      "metadata": {
        "colab": {
          "base_uri": "https://localhost:8080/"
        },
        "id": "kBr3af0kdEkY",
        "outputId": "0c344485-31ce-4d4a-af1a-7a296c78e5d4"
      },
      "execution_count": 14,
      "outputs": [
        {
          "output_type": "stream",
          "name": "stdout",
          "text": [
            "15.2\n"
          ]
        }
      ]
    },
    {
      "cell_type": "code",
      "source": [
        "#Python concatenate strings\n",
        "firstname=\"WALISA\"\n",
        "lastname=\"ROMSAIYUD\"\n",
        "fullname = firstname+lastname\n",
        "print(fullname)"
      ],
      "metadata": {
        "colab": {
          "base_uri": "https://localhost:8080/"
        },
        "id": "olbfRl7NepCU",
        "outputId": "e616c40e-90f4-4890-dba2-975fc27b6d94"
      },
      "execution_count": 13,
      "outputs": [
        {
          "output_type": "stream",
          "name": "stdout",
          "text": [
            "WALISAROMSAIYUD\n"
          ]
        }
      ]
    },
    {
      "cell_type": "markdown",
      "source": [
        "3) **MODULES**"
      ],
      "metadata": {
        "id": "rwF_YxCMggqT"
      }
    },
    {
      "cell_type": "code",
      "source": [
        "import pandas  as pd #all files\n",
        "import matplotlib.pyplot as plt\n",
        "import numpy as np\n",
        "from sklearn.linear_model import LogisticRegression #specific file(s)"
      ],
      "metadata": {
        "id": "rJMKfZ7dgobH"
      },
      "execution_count": 18,
      "outputs": []
    },
    {
      "cell_type": "markdown",
      "source": [
        "**4) READ FILE**"
      ],
      "metadata": {
        "id": "FcNMbr_sh_ff"
      }
    },
    {
      "cell_type": "code",
      "source": [
        "data = pd.read_csv('/content/sample_data/GradingSystem.csv')\n",
        "print(data)"
      ],
      "metadata": {
        "colab": {
          "base_uri": "https://localhost:8080/"
        },
        "id": "v5-LuOJviOR8",
        "outputId": "2304e055-0af4-495b-d2d4-c427ecbc684a"
      },
      "execution_count": 38,
      "outputs": [
        {
          "output_type": "stream",
          "name": "stdout",
          "text": [
            "    StudentNo  Science  Math  CGPA\n",
            "0           1       22    27   2.5\n",
            "1           2       23    17   2.3\n",
            "2           3       31    25   2.5\n",
            "3           4       27    22   2.4\n",
            "4           5       32    20   2.3\n",
            "5           6       32    20   2.3\n",
            "6           7       23    15   2.2\n",
            "7           8       18    20   2.8\n",
            "8           9       26    22   2.8\n",
            "9          10       30    17   2.5\n",
            "10         11       30    20   2.3\n",
            "11         12       30    15   2.4\n",
            "12         13       30    27   2.8\n",
            "13         14       30    22   3.0\n",
            "14         15       30    20   3.0\n",
            "15         16       62    25   3.0\n",
            "16         17       50    17   2.0\n",
            "17         18       50    20   2.3\n",
            "18         19       50    12   2.0\n",
            "19         20       50    20   2.3\n",
            "20         21       50    15   2.2\n",
            "21         22       58    60   4.0\n",
            "22         23       33    20   2.3\n",
            "23         24       58    62   4.0\n",
            "24         25       40    22   2.8\n",
            "25         26       40    15   2.2\n",
            "26         27       40    20   2.8\n",
            "27         28       40    17   2.5\n",
            "28         29       40    12   2.0\n",
            "29         30       44    40   3.8\n"
          ]
        }
      ]
    },
    {
      "cell_type": "code",
      "source": [
        "count_data = len(data)\n",
        "print(\"Count all rows:\" + str(count_data))"
      ],
      "metadata": {
        "colab": {
          "base_uri": "https://localhost:8080/"
        },
        "id": "-V6a48CIiwRv",
        "outputId": "d1c529ab-f4bc-4c27-b2d2-234db6bb8dfd"
      },
      "execution_count": 39,
      "outputs": [
        {
          "output_type": "stream",
          "name": "stdout",
          "text": [
            "Count all rows:30\n"
          ]
        }
      ]
    },
    {
      "cell_type": "markdown",
      "source": [
        "**5) PLOT GRAPH**"
      ],
      "metadata": {
        "id": "IZZMHlxBmqQG"
      }
    },
    {
      "cell_type": "code",
      "source": [
        "x = data['Math']\n",
        "y = data['CGPA']\n",
        "plt.scatter(x,y,color='red')\n",
        "plt.xlabel('Math', fontsize=14)\n",
        "plt.ylabel('CGPA', fontsize=14)\n",
        "plt.show()"
      ],
      "metadata": {
        "colab": {
          "base_uri": "https://localhost:8080/",
          "height": 283
        },
        "id": "vKgSEOYpi31-",
        "outputId": "534be200-84df-436d-d66b-719c291433f8"
      },
      "execution_count": 41,
      "outputs": [
        {
          "output_type": "display_data",
          "data": {
            "text/plain": [
              "<Figure size 432x288 with 1 Axes>"
            ],
            "image/png": "[encoded data removed]"
          },
          "metadata": {
            "needs_background": "light"
          }
        }
      ]
    },
    {
      "cell_type": "markdown",
      "source": [
        "**6) SAVE FILE**"
      ],
      "metadata": {
        "id": "u10NExwOmncN"
      }
    },
    {
      "cell_type": "markdown",
      "source": [
        "**7) CONFIGURATION FILE**"
      ],
      "metadata": {
        "id": "okRGw_-Jm31T"
      }
    },
    {
      "cell_type": "markdown",
      "source": [
        "# End"
      ],
      "metadata": {
        "id": "sY3AECqmnZG7"
      }
    }
  ]
}