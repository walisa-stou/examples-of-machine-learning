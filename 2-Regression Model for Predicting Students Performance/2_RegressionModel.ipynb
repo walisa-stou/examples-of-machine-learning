{
  "nbformat": 4,
  "nbformat_minor": 0,
  "metadata": {
    "colab": {
      "name": "01_RegressionModel.ipynb",
      "provenance": [],
      "collapsed_sections": []
    },
    "kernelspec": {
      "name": "python3",
      "display_name": "Python 3"
    },
    "language_info": {
      "name": "python"
    }
  },
  "cells": [
    {
      "cell_type": "markdown",
      "source": [
        "# Regression Model for Predicting Students Performance"
      ],
      "metadata": {
        "id": "ASfS865bZOqU"
      }
    },
    {
      "cell_type": "markdown",
      "source": [
        "WALISA ROMSAIYUD - STOU"
      ],
      "metadata": {
        "id": "KZxT2tvAZvqG"
      }
    },
    {
      "cell_type": "markdown",
      "source": [
        "**1) IMPORT LIBRARIES**"
      ],
      "metadata": {
        "id": "_S3mOHgPcfQx"
      }
    },
    {
      "cell_type": "code",
      "source": [
        "import numpy as np\n",
        "import pandas as pd\n",
        "import matplotlib.pyplot as plt\n",
        "import sklearn\n",
        "from sklearn.linear_model import LinearRegression\n",
        "from sklearn.metrics import mean_squared_error, r2_score"
      ],
      "metadata": {
        "id": "hPxWp_zBaKfq"
      },
      "execution_count": 1,
      "outputs": []
    },
    {
      "cell_type": "markdown",
      "source": [
        "**2) READ DATASET**"
      ],
      "metadata": {
        "id": "BRtBJjFqdqRt"
      }
    },
    {
      "cell_type": "code",
      "source": [
        "dataset = pd.read_csv('/content/sample_data/GradingSystem.csv')\n",
        "dataset.head(10)"
      ],
      "metadata": {
        "colab": {
          "base_uri": "https://localhost:8080/",
          "height": 363
        },
        "id": "x02huJJHag4p",
        "outputId": "f80da1a5-92ef-4da1-9b18-3a09374e968a"
      },
      "execution_count": 2,
      "outputs": [
        {
          "output_type": "execute_result",
          "data": {
            "text/plain": [
              "   StudentNo  Science  Math  CGPA\n",
              "0          1       22    27   2.5\n",
              "1          2       23    17   2.3\n",
              "2          3       31    25   2.5\n",
              "3          4       27    22   2.4\n",
              "4          5       32    20   2.3\n",
              "5          6       32    20   2.3\n",
              "6          7       23    15   2.2\n",
              "7          8       18    20   2.8\n",
              "8          9       26    22   2.8\n",
              "9         10       30    17   2.5"
            ],
            "text/html": [
              "\n",
              "  <div id=\"df-2d60cc17-6e78-4fcf-bbfd-1e32f6de8fbc\">\n",
              "    <div class=\"colab-df-container\">\n",
              "      <div>\n",
              "<style scoped>\n",
              "    .dataframe tbody tr th:only-of-type {\n",
              "        vertical-align: middle;\n",
              "    }\n",
              "\n",
              "    .dataframe tbody tr th {\n",
              "        vertical-align: top;\n",
              "    }\n",
              "\n",
              "    .dataframe thead th {\n",
              "        text-align: right;\n",
              "    }\n",
              "</style>\n",
              "<table border=\"1\" class=\"dataframe\">\n",
              "  <thead>\n",
              "    <tr style=\"text-align: right;\">\n",
              "      <th></th>\n",
              "      <th>StudentNo</th>\n",
              "      <th>Science</th>\n",
              "      <th>Math</th>\n",
              "      <th>CGPA</th>\n",
              "    </tr>\n",
              "  </thead>\n",
              "  <tbody>\n",
              "    <tr>\n",
              "      <th>0</th>\n",
              "      <td>1</td>\n",
              "      <td>22</td>\n",
              "      <td>27</td>\n",
              "      <td>2.5</td>\n",
              "    </tr>\n",
              "    <tr>\n",
              "      <th>1</th>\n",
              "      <td>2</td>\n",
              "      <td>23</td>\n",
              "      <td>17</td>\n",
              "      <td>2.3</td>\n",
              "    </tr>\n",
              "    <tr>\n",
              "      <th>2</th>\n",
              "      <td>3</td>\n",
              "      <td>31</td>\n",
              "      <td>25</td>\n",
              "      <td>2.5</td>\n",
              "    </tr>\n",
              "    <tr>\n",
              "      <th>3</th>\n",
              "      <td>4</td>\n",
              "      <td>27</td>\n",
              "      <td>22</td>\n",
              "      <td>2.4</td>\n",
              "    </tr>\n",
              "    <tr>\n",
              "      <th>4</th>\n",
              "      <td>5</td>\n",
              "      <td>32</td>\n",
              "      <td>20</td>\n",
              "      <td>2.3</td>\n",
              "    </tr>\n",
              "    <tr>\n",
              "      <th>5</th>\n",
              "      <td>6</td>\n",
              "      <td>32</td>\n",
              "      <td>20</td>\n",
              "      <td>2.3</td>\n",
              "    </tr>\n",
              "    <tr>\n",
              "      <th>6</th>\n",
              "      <td>7</td>\n",
              "      <td>23</td>\n",
              "      <td>15</td>\n",
              "      <td>2.2</td>\n",
              "    </tr>\n",
              "    <tr>\n",
              "      <th>7</th>\n",
              "      <td>8</td>\n",
              "      <td>18</td>\n",
              "      <td>20</td>\n",
              "      <td>2.8</td>\n",
              "    </tr>\n",
              "    <tr>\n",
              "      <th>8</th>\n",
              "      <td>9</td>\n",
              "      <td>26</td>\n",
              "      <td>22</td>\n",
              "      <td>2.8</td>\n",
              "    </tr>\n",
              "    <tr>\n",
              "      <th>9</th>\n",
              "      <td>10</td>\n",
              "      <td>30</td>\n",
              "      <td>17</td>\n",
              "      <td>2.5</td>\n",
              "    </tr>\n",
              "  </tbody>\n",
              "</table>\n",
              "</div>\n",
              "      <button class=\"colab-df-convert\" onclick=\"convertToInteractive('df-2d60cc17-6e78-4fcf-bbfd-1e32f6de8fbc')\"\n",
              "              title=\"Convert this dataframe to an interactive table.\"\n",
              "              style=\"display:none;\">\n",
              "        \n",
              "  <svg xmlns=\"http://www.w3.org/2000/svg\" height=\"24px\"viewBox=\"0 0 24 24\"\n",
              "       width=\"24px\">\n",
              "    <path d=\"M0 0h24v24H0V0z\" fill=\"none\"/>\n",
              "    <path d=\"M18.56 5.44l.94 2.06.94-2.06 2.06-.94-2.06-.94-.94-2.06-.94 2.06-2.06.94zm-11 1L8.5 8.5l.94-2.06 2.06-.94-2.06-.94L8.5 2.5l-.94 2.06-2.06.94zm10 10l.94 2.06.94-2.06 2.06-.94-2.06-.94-.94-2.06-.94 2.06-2.06.94z\"/><path d=\"M17.41 7.96l-1.37-1.37c-.4-.4-.92-.59-1.43-.59-.52 0-1.04.2-1.43.59L10.3 9.45l-7.72 7.72c-.78.78-.78 2.05 0 2.83L4 21.41c.39.39.9.59 1.41.59.51 0 1.02-.2 1.41-.59l7.78-7.78 2.81-2.81c.8-.78.8-2.07 0-2.86zM5.41 20L4 18.59l7.72-7.72 1.47 1.35L5.41 20z\"/>\n",
              "  </svg>\n",
              "      </button>\n",
              "      \n",
              "  <style>\n",
              "    .colab-df-container {\n",
              "      display:flex;\n",
              "      flex-wrap:wrap;\n",
              "      gap: 12px;\n",
              "    }\n",
              "\n",
              "    .colab-df-convert {\n",
              "      background-color: #E8F0FE;\n",
              "      border: none;\n",
              "      border-radius: 50%;\n",
              "      cursor: pointer;\n",
              "      display: none;\n",
              "      fill: #1967D2;\n",
              "      height: 32px;\n",
              "      padding: 0 0 0 0;\n",
              "      width: 32px;\n",
              "    }\n",
              "\n",
              "    .colab-df-convert:hover {\n",
              "      background-color: #E2EBFA;\n",
              "      box-shadow: 0px 1px 2px rgba(60, 64, 67, 0.3), 0px 1px 3px 1px rgba(60, 64, 67, 0.15);\n",
              "      fill: #174EA6;\n",
              "    }\n",
              "\n",
              "    [theme=dark] .colab-df-convert {\n",
              "      background-color: #3B4455;\n",
              "      fill: #D2E3FC;\n",
              "    }\n",
              "\n",
              "    [theme=dark] .colab-df-convert:hover {\n",
              "      background-color: #434B5C;\n",
              "      box-shadow: 0px 1px 3px 1px rgba(0, 0, 0, 0.15);\n",
              "      filter: drop-shadow(0px 1px 2px rgba(0, 0, 0, 0.3));\n",
              "      fill: #FFFFFF;\n",
              "    }\n",
              "  </style>\n",
              "\n",
              "      <script>\n",
              "        const buttonEl =\n",
              "          document.querySelector('#df-2d60cc17-6e78-4fcf-bbfd-1e32f6de8fbc button.colab-df-convert');\n",
              "        buttonEl.style.display =\n",
              "          google.colab.kernel.accessAllowed ? 'block' : 'none';\n",
              "\n",
              "        async function convertToInteractive(key) {\n",
              "          const element = document.querySelector('#df-2d60cc17-6e78-4fcf-bbfd-1e32f6de8fbc');\n",
              "          const dataTable =\n",
              "            await google.colab.kernel.invokeFunction('convertToInteractive',\n",
              "                                                     [key], {});\n",
              "          if (!dataTable) return;\n",
              "\n",
              "          const docLinkHtml = 'Like what you see? Visit the ' +\n",
              "            '<a target=\"_blank\" href=https://colab.research.google.com/notebooks/data_table.ipynb>data table notebook</a>'\n",
              "            + ' to learn more about interactive tables.';\n",
              "          element.innerHTML = '';\n",
              "          dataTable['output_type'] = 'display_data';\n",
              "          await google.colab.output.renderOutput(dataTable, element);\n",
              "          const docLink = document.createElement('div');\n",
              "          docLink.innerHTML = docLinkHtml;\n",
              "          element.appendChild(docLink);\n",
              "        }\n",
              "      </script>\n",
              "    </div>\n",
              "  </div>\n",
              "  "
            ]
          },
          "metadata": {},
          "execution_count": 2
        }
      ]
    },
    {
      "cell_type": "markdown",
      "source": [
        "**3) Exploratory Data Analysis : EDA**"
      ],
      "metadata": {
        "id": "avmtSSVdcvm9"
      }
    },
    {
      "cell_type": "code",
      "source": [
        "x = dataset['Math']\n",
        "y = dataset['CGPA']\n",
        "\n",
        "plt.scatter(x,y,color='red')\n",
        "plt.xlabel('MATH', fontsize=14)\n",
        "plt.ylabel('CGPA', fontsize=14)\n",
        "plt.show()"
      ],
      "metadata": {
        "colab": {
          "base_uri": "https://localhost:8080/",
          "height": 283
        },
        "id": "kBr3af0kdEkY",
        "outputId": "33fa2faf-5d09-4280-8fbc-0b36b9ef3e7f"
      },
      "execution_count": 3,
      "outputs": [
        {
          "output_type": "display_data",
          "data": {
            "text/plain": [
              "<Figure size 432x288 with 1 Axes>"
            ],
            "image/png": "[encoded data removed]"
          },
          "metadata": {
            "needs_background": "light"
          }
        }
      ]
    },
    {
      "cell_type": "code",
      "source": [
        "x = dataset.iloc[:, 2].values.reshape(-1, 1) \n",
        "y = dataset.iloc[:, 3].values.reshape(-1, 1) "
      ],
      "metadata": {
        "id": "rJMKfZ7dgobH"
      },
      "execution_count": 4,
      "outputs": []
    },
    {
      "cell_type": "markdown",
      "source": [
        "**4) DATA SPLITTING**"
      ],
      "metadata": {
        "id": "FcNMbr_sh_ff"
      }
    },
    {
      "cell_type": "code",
      "source": [
        "from sklearn.model_selection import train_test_split\n",
        "x_train, x_test, y_train, y_test = train_test_split(x,y,train_size=0.7, test_size=0.3,random_state=0) "
      ],
      "metadata": {
        "id": "v5-LuOJviOR8"
      },
      "execution_count": 5,
      "outputs": []
    },
    {
      "cell_type": "markdown",
      "source": [
        "**5) CREATE MODEL**"
      ],
      "metadata": {
        "id": "IZZMHlxBmqQG"
      }
    },
    {
      "cell_type": "code",
      "source": [
        "regression_model = LinearRegression()\n",
        "regression_model.fit(x_train,y_train)"
      ],
      "metadata": {
        "colab": {
          "base_uri": "https://localhost:8080/"
        },
        "id": "vKgSEOYpi31-",
        "outputId": "d87c3ea5-e5b9-4dc9-9a44-7641650ce6a7"
      },
      "execution_count": 6,
      "outputs": [
        {
          "output_type": "execute_result",
          "data": {
            "text/plain": [
              "LinearRegression()"
            ]
          },
          "metadata": {},
          "execution_count": 6
        }
      ]
    },
    {
      "cell_type": "markdown",
      "source": [
        "LINEAR REGRESSION EQUATION\n",
        "\n",
        "**Y = a+ bX + error** "
      ],
      "metadata": {
        "id": "5X2apjBBqu_Y"
      }
    },
    {
      "cell_type": "code",
      "source": [
        "y_predicted =  regression_model.predict(x_test) \n",
        "y_predicted\n",
        "\n",
        "y_test"
      ],
      "metadata": {
        "colab": {
          "base_uri": "https://localhost:8080/"
        },
        "id": "qH2RXQPillKH",
        "outputId": "9100d3fc-0e49-44eb-cdc4-0e593a849849"
      },
      "execution_count": 7,
      "outputs": [
        {
          "output_type": "execute_result",
          "data": {
            "text/plain": [
              "array([[2.5],\n",
              "       [2. ],\n",
              "       [3. ],\n",
              "       [2.3],\n",
              "       [2.8],\n",
              "       [2.8],\n",
              "       [2.5],\n",
              "       [2.4],\n",
              "       [2.3]])"
            ]
          },
          "metadata": {},
          "execution_count": 7
        }
      ]
    },
    {
      "cell_type": "code",
      "source": [
        "df = pd.DataFrame({'Actual': [y_test], 'Predicted': [y_predicted]})\n",
        "print(df)"
      ],
      "metadata": {
        "colab": {
          "base_uri": "https://localhost:8080/"
        },
        "id": "s982Wk8klvX3",
        "outputId": "6a7368c4-9fd4-496f-9e5a-2f5e41d23e7f"
      },
      "execution_count": 8,
      "outputs": [
        {
          "output_type": "stream",
          "name": "stdout",
          "text": [
            "                                              Actual  \\\n",
            "0  [[2.5], [2.0], [3.0], [2.3], [2.8], [2.8], [2....   \n",
            "\n",
            "                                           Predicted  \n",
            "0  [[2.675936945401399], [2.1400381041862406], [2...  \n"
          ]
        }
      ]
    },
    {
      "cell_type": "markdown",
      "source": [
        "**6) MODEL EVALUATION**"
      ],
      "metadata": {
        "id": "u10NExwOmncN"
      }
    },
    {
      "cell_type": "code",
      "source": [
        "rmse = mean_squared_error(y_test, y_predicted)\n",
        "r2_score = r2_score(y_test,y_predicted)"
      ],
      "metadata": {
        "id": "vZn9idltl9nR"
      },
      "execution_count": 9,
      "outputs": []
    },
    {
      "cell_type": "code",
      "source": [
        "print('The intercept is:', regression_model.intercept_)\n",
        "print('The coefficient is:' ,regression_model.coef_)\n",
        "print('The rmse is:',rmse)\n",
        "print('The r2_score is:',r2_score)\n"
      ],
      "metadata": {
        "colab": {
          "base_uri": "https://localhost:8080/"
        },
        "id": "qm-2RPYUnYRO",
        "outputId": "64086061-c71c-4f5e-e314-0d53aaf53756"
      },
      "execution_count": 10,
      "outputs": [
        {
          "output_type": "stream",
          "name": "stdout",
          "text": [
            "The intercept is: [1.64536225]\n",
            "The coefficient is: [[0.04122299]]\n",
            "The rmse is: 0.05792675297327944\n",
            "The r2_score is: 0.32195563716248055\n"
          ]
        }
      ]
    },
    {
      "cell_type": "markdown",
      "source": [
        "**7) PREDICTION RESULTS**\n",
        "\n",
        "Y = a+ bX + error"
      ],
      "metadata": {
        "id": "okRGw_-Jm31T"
      }
    },
    {
      "cell_type": "code",
      "source": [
        "#Case 1 - Math score = 30\n",
        "X = 30   \n",
        "def predictCGPAscore():\n",
        "    a = 1.64536225  \n",
        "    b = 0.04122299   \n",
        "    error = 0    \n",
        "    y = a + np.sum(b*X) + 0\n",
        "    print (y)\n",
        "predictCGPAscore()"
      ],
      "metadata": {
        "colab": {
          "base_uri": "https://localhost:8080/"
        },
        "id": "veVmgqh9n4Cr",
        "outputId": "dbba9502-1080-489f-dc40-4a6cf1b3b68e"
      },
      "execution_count": 11,
      "outputs": [
        {
          "output_type": "stream",
          "name": "stdout",
          "text": [
            "2.88205195\n"
          ]
        }
      ]
    },
    {
      "cell_type": "code",
      "source": [
        "#Case 2 - Math score = 21\n",
        "X = 21   \n",
        "def predictCGPAscore():\n",
        "    a = 1.64536225  \n",
        "    b = 0.04122299   \n",
        "    error = 0    \n",
        "    y = a + np.sum(b*X) + 0\n",
        "    print (y)\n",
        "predictCGPAscore()"
      ],
      "metadata": {
        "colab": {
          "base_uri": "https://localhost:8080/"
        },
        "id": "IjwTWtAdoFvQ",
        "outputId": "b8350eb6-6ed8-40e2-bc10-95177b1bff4d"
      },
      "execution_count": 12,
      "outputs": [
        {
          "output_type": "stream",
          "name": "stdout",
          "text": [
            "2.51104504\n"
          ]
        }
      ]
    },
    {
      "cell_type": "markdown",
      "source": [
        "8) **VISUALIZATION**"
      ],
      "metadata": {
        "id": "ePZKJt3boae7"
      }
    },
    {
      "cell_type": "code",
      "source": [
        "plt.scatter(x_train, y_train, color='red') \n",
        "plt.plot(x_train, regression_model.predict(x_train), color='blue') \n",
        "plt.title(\"Grading System \") \n",
        "  \n",
        "plt.xlabel(\"Math score\") \n",
        "plt.ylabel(\"CGPA\") \n",
        "plt.show()"
      ],
      "metadata": {
        "colab": {
          "base_uri": "https://localhost:8080/",
          "height": 295
        },
        "id": "lyJZP3_OoXME",
        "outputId": "856fb6aa-a15c-4b43-c028-30d7aea268b6"
      },
      "execution_count": 14,
      "outputs": [
        {
          "output_type": "display_data",
          "data": {
            "text/plain": [
              "<Figure size 432x288 with 1 Axes>"
            ],
            "image/png": "[encoded data removed]"
          },
          "metadata": {
            "needs_background": "light"
          }
        }
      ]
    },
    {
      "cell_type": "markdown",
      "source": [
        "# End"
      ],
      "metadata": {
        "id": "sY3AECqmnZG7"
      }
    }
  ]
}