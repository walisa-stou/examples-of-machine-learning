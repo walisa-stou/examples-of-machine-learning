{
  "nbformat": 4,
  "nbformat_minor": 0,
  "metadata": {
    "colab": {
      "name": "02_StudentPerformancePrediction.ipynb",
      "provenance": [],
      "collapsed_sections": []
    },
    "kernelspec": {
      "name": "python3",
      "display_name": "Python 3"
    },
    "language_info": {
      "name": "python"
    }
  },
  "cells": [
    {
      "cell_type": "markdown",
      "source": [
        "# **Decision Tree Classification Algorithm**"
      ],
      "metadata": {
        "id": "T5kmvWRfP_0p"
      }
    },
    {
      "cell_type": "markdown",
      "source": [
        "## WALISA ROMSAIYUD - STOU"
      ],
      "metadata": {
        "id": "wppoa2afP7zj"
      }
    },
    {
      "cell_type": "markdown",
      "source": [
        "**1) Import Libraries**"
      ],
      "metadata": {
        "id": "Fw8-WeCFQKaZ"
      }
    },
    {
      "cell_type": "code",
      "execution_count": null,
      "metadata": {
        "id": "oqGmGRP0C9yW"
      },
      "outputs": [],
      "source": [
        "#การนำเข้า Library ที่สำคัญ\n",
        "import pandas as pd  #data processing\n",
        "import numpy as np #linear algebra\n",
        "import matplotlib.pyplot as plt #data visualization\n",
        "import seaborn as sns #statistical data visualization\n",
        "import sklearn as sk #machine learning model\n",
        "import sklearn.metrics as metrics\n",
        "\n",
        "from sklearn.model_selection import train_test_split\n",
        "from sklearn.metrics import classification_report\n",
        "from sklearn.metrics import confusion_matrix"
      ]
    },
    {
      "cell_type": "markdown",
      "source": [
        "**2) Read Dataset**"
      ],
      "metadata": {
        "id": "28SFoZj9QVbf"
      }
    },
    {
      "cell_type": "code",
      "source": [
        "#การนำเข้าไฟล์\n",
        "studentdata = pd.read_excel('/content/sample_data/study42Y_Train.xlsx')\n",
        "studentdata.head(5)"
      ],
      "metadata": {
        "colab": {
          "base_uri": "https://localhost:8080/",
          "height": 206
        },
        "id": "uGM6jF58DFDD",
        "outputId": "58e08866-1bde-4b39-a1b9-73fa53d856db"
      },
      "execution_count": null,
      "outputs": [
        {
          "output_type": "execute_result",
          "data": {
            "text/plain": [
              "   BSc  Gender  CGPA  Experience Province  EnglishProficiencyCertificate  \\\n",
              "0    1       0   3.2           3  Bangkok                              1   \n",
              "1    1       0   3.0           3      Tak                              1   \n",
              "2    1       0   2.7           3  Bangkok                              0   \n",
              "3    1       0   2.9           1  Bangkok                              1   \n",
              "4    1       0   2.7           2  Bangkok                              1   \n",
              "\n",
              "   Thesis/IS  Result  \n",
              "0          1       0  \n",
              "1          1       0  \n",
              "2          0       1  \n",
              "3          1       0  \n",
              "4          1       0  "
            ],
            "text/html": [
              "\n",
              "  <div id=\"df-8680a1f8-64d8-42f0-8b3c-de4e579751a8\">\n",
              "    <div class=\"colab-df-container\">\n",
              "      <div>\n",
              "<style scoped>\n",
              "    .dataframe tbody tr th:only-of-type {\n",
              "        vertical-align: middle;\n",
              "    }\n",
              "\n",
              "    .dataframe tbody tr th {\n",
              "        vertical-align: top;\n",
              "    }\n",
              "\n",
              "    .dataframe thead th {\n",
              "        text-align: right;\n",
              "    }\n",
              "</style>\n",
              "<table border=\"1\" class=\"dataframe\">\n",
              "  <thead>\n",
              "    <tr style=\"text-align: right;\">\n",
              "      <th></th>\n",
              "      <th>BSc</th>\n",
              "      <th>Gender</th>\n",
              "      <th>CGPA</th>\n",
              "      <th>Experience</th>\n",
              "      <th>Province</th>\n",
              "      <th>EnglishProficiencyCertificate</th>\n",
              "      <th>Thesis/IS</th>\n",
              "      <th>Result</th>\n",
              "    </tr>\n",
              "  </thead>\n",
              "  <tbody>\n",
              "    <tr>\n",
              "      <th>0</th>\n",
              "      <td>1</td>\n",
              "      <td>0</td>\n",
              "      <td>3.2</td>\n",
              "      <td>3</td>\n",
              "      <td>Bangkok</td>\n",
              "      <td>1</td>\n",
              "      <td>1</td>\n",
              "      <td>0</td>\n",
              "    </tr>\n",
              "    <tr>\n",
              "      <th>1</th>\n",
              "      <td>1</td>\n",
              "      <td>0</td>\n",
              "      <td>3.0</td>\n",
              "      <td>3</td>\n",
              "      <td>Tak</td>\n",
              "      <td>1</td>\n",
              "      <td>1</td>\n",
              "      <td>0</td>\n",
              "    </tr>\n",
              "    <tr>\n",
              "      <th>2</th>\n",
              "      <td>1</td>\n",
              "      <td>0</td>\n",
              "      <td>2.7</td>\n",
              "      <td>3</td>\n",
              "      <td>Bangkok</td>\n",
              "      <td>0</td>\n",
              "      <td>0</td>\n",
              "      <td>1</td>\n",
              "    </tr>\n",
              "    <tr>\n",
              "      <th>3</th>\n",
              "      <td>1</td>\n",
              "      <td>0</td>\n",
              "      <td>2.9</td>\n",
              "      <td>1</td>\n",
              "      <td>Bangkok</td>\n",
              "      <td>1</td>\n",
              "      <td>1</td>\n",
              "      <td>0</td>\n",
              "    </tr>\n",
              "    <tr>\n",
              "      <th>4</th>\n",
              "      <td>1</td>\n",
              "      <td>0</td>\n",
              "      <td>2.7</td>\n",
              "      <td>2</td>\n",
              "      <td>Bangkok</td>\n",
              "      <td>1</td>\n",
              "      <td>1</td>\n",
              "      <td>0</td>\n",
              "    </tr>\n",
              "  </tbody>\n",
              "</table>\n",
              "</div>\n",
              "      <button class=\"colab-df-convert\" onclick=\"convertToInteractive('df-8680a1f8-64d8-42f0-8b3c-de4e579751a8')\"\n",
              "              title=\"Convert this dataframe to an interactive table.\"\n",
              "              style=\"display:none;\">\n",
              "        \n",
              "  <svg xmlns=\"http://www.w3.org/2000/svg\" height=\"24px\"viewBox=\"0 0 24 24\"\n",
              "       width=\"24px\">\n",
              "    <path d=\"M0 0h24v24H0V0z\" fill=\"none\"/>\n",
              "    <path d=\"M18.56 5.44l.94 2.06.94-2.06 2.06-.94-2.06-.94-.94-2.06-.94 2.06-2.06.94zm-11 1L8.5 8.5l.94-2.06 2.06-.94-2.06-.94L8.5 2.5l-.94 2.06-2.06.94zm10 10l.94 2.06.94-2.06 2.06-.94-2.06-.94-.94-2.06-.94 2.06-2.06.94z\"/><path d=\"M17.41 7.96l-1.37-1.37c-.4-.4-.92-.59-1.43-.59-.52 0-1.04.2-1.43.59L10.3 9.45l-7.72 7.72c-.78.78-.78 2.05 0 2.83L4 21.41c.39.39.9.59 1.41.59.51 0 1.02-.2 1.41-.59l7.78-7.78 2.81-2.81c.8-.78.8-2.07 0-2.86zM5.41 20L4 18.59l7.72-7.72 1.47 1.35L5.41 20z\"/>\n",
              "  </svg>\n",
              "      </button>\n",
              "      \n",
              "  <style>\n",
              "    .colab-df-container {\n",
              "      display:flex;\n",
              "      flex-wrap:wrap;\n",
              "      gap: 12px;\n",
              "    }\n",
              "\n",
              "    .colab-df-convert {\n",
              "      background-color: #E8F0FE;\n",
              "      border: none;\n",
              "      border-radius: 50%;\n",
              "      cursor: pointer;\n",
              "      display: none;\n",
              "      fill: #1967D2;\n",
              "      height: 32px;\n",
              "      padding: 0 0 0 0;\n",
              "      width: 32px;\n",
              "    }\n",
              "\n",
              "    .colab-df-convert:hover {\n",
              "      background-color: #E2EBFA;\n",
              "      box-shadow: 0px 1px 2px rgba(60, 64, 67, 0.3), 0px 1px 3px 1px rgba(60, 64, 67, 0.15);\n",
              "      fill: #174EA6;\n",
              "    }\n",
              "\n",
              "    [theme=dark] .colab-df-convert {\n",
              "      background-color: #3B4455;\n",
              "      fill: #D2E3FC;\n",
              "    }\n",
              "\n",
              "    [theme=dark] .colab-df-convert:hover {\n",
              "      background-color: #434B5C;\n",
              "      box-shadow: 0px 1px 3px 1px rgba(0, 0, 0, 0.15);\n",
              "      filter: drop-shadow(0px 1px 2px rgba(0, 0, 0, 0.3));\n",
              "      fill: #FFFFFF;\n",
              "    }\n",
              "  </style>\n",
              "\n",
              "      <script>\n",
              "        const buttonEl =\n",
              "          document.querySelector('#df-8680a1f8-64d8-42f0-8b3c-de4e579751a8 button.colab-df-convert');\n",
              "        buttonEl.style.display =\n",
              "          google.colab.kernel.accessAllowed ? 'block' : 'none';\n",
              "\n",
              "        async function convertToInteractive(key) {\n",
              "          const element = document.querySelector('#df-8680a1f8-64d8-42f0-8b3c-de4e579751a8');\n",
              "          const dataTable =\n",
              "            await google.colab.kernel.invokeFunction('convertToInteractive',\n",
              "                                                     [key], {});\n",
              "          if (!dataTable) return;\n",
              "\n",
              "          const docLinkHtml = 'Like what you see? Visit the ' +\n",
              "            '<a target=\"_blank\" href=https://colab.research.google.com/notebooks/data_table.ipynb>data table notebook</a>'\n",
              "            + ' to learn more about interactive tables.';\n",
              "          element.innerHTML = '';\n",
              "          dataTable['output_type'] = 'display_data';\n",
              "          await google.colab.output.renderOutput(dataTable, element);\n",
              "          const docLink = document.createElement('div');\n",
              "          docLink.innerHTML = docLinkHtml;\n",
              "          element.appendChild(docLink);\n",
              "        }\n",
              "      </script>\n",
              "    </div>\n",
              "  </div>\n",
              "  "
            ]
          },
          "metadata": {},
          "execution_count": 20
        }
      ]
    },
    {
      "cell_type": "markdown",
      "source": [
        "**3) Exploratory Data Analysis: EDA**"
      ],
      "metadata": {
        "id": "U8OzyMixQgiV"
      }
    },
    {
      "cell_type": "code",
      "source": [
        "#การเตรียมข้อมูล ที่ข้อมูลจะต้องเป็นตัวเลข \n",
        "all_features = [name for name in studentdata.columns if studentdata[name].dtype == 'object']\n",
        "all_features"
      ],
      "metadata": {
        "colab": {
          "base_uri": "https://localhost:8080/"
        },
        "id": "ht4ReNsQDJ84",
        "outputId": "f845e8a6-ca20-415f-9543-aac01be4acda"
      },
      "execution_count": null,
      "outputs": [
        {
          "output_type": "execute_result",
          "data": {
            "text/plain": [
              "['Province']"
            ]
          },
          "metadata": {},
          "execution_count": 21
        }
      ]
    },
    {
      "cell_type": "markdown",
      "source": [
        "**3.1) Convert an Object to Int**"
      ],
      "metadata": {
        "id": "JLpjURdfQ3ew"
      }
    },
    {
      "cell_type": "code",
      "source": [
        "#การแปลงข้อมูลจังหวัด (Province) ให้เป็นตัวเลข\n",
        "all_features=[name for name in studentdata.columns if studentdata[name].dtype =='object']\n",
        "from sklearn.preprocessing import LabelEncoder\n",
        "le=LabelEncoder()\n",
        "for i in list(all_features):\n",
        "  studentdata[i]=le.fit_transform(studentdata[i])\n",
        "for x in all_features:\n",
        "  print(x,\" = \",studentdata[x].unique())"
      ],
      "metadata": {
        "colab": {
          "base_uri": "https://localhost:8080/"
        },
        "id": "LflhKxuYDMnQ",
        "outputId": "3f389447-d676-4b2e-82e6-af59277765c9"
      },
      "execution_count": null,
      "outputs": [
        {
          "output_type": "stream",
          "name": "stdout",
          "text": [
            "Province  =  [ 0 12  3  9 11  2  5 14  1  7  4 13  8 15  6 10]\n"
          ]
        }
      ]
    },
    {
      "cell_type": "code",
      "source": [
        "#การแสดงข้อมูลจังหวัดที่ถูกแปลงเป็นตัวเลข\n",
        "studentdata.head(10)"
      ],
      "metadata": {
        "colab": {
          "base_uri": "https://localhost:8080/",
          "height": 363
        },
        "id": "7m_p7jXoDPHl",
        "outputId": "e7ee4d98-9fc2-474d-b56e-e4fd8244edb5"
      },
      "execution_count": null,
      "outputs": [
        {
          "output_type": "execute_result",
          "data": {
            "text/plain": [
              "   BSc  Gender  CGPA  Experience  Province  EnglishProficiencyCertificate  \\\n",
              "0    1       0   3.2           3         0                              1   \n",
              "1    1       0   3.0           3        12                              1   \n",
              "2    1       0   2.7           3         0                              0   \n",
              "3    1       0   2.9           1         0                              1   \n",
              "4    1       0   2.7           2         0                              1   \n",
              "5    0       0   3.5           2         0                              0   \n",
              "6    0       0   2.9           2         3                              0   \n",
              "7    0       0   2.8           3         0                              0   \n",
              "8    1       0   2.8           3         0                              0   \n",
              "9    1       0   2.5           3         9                              0   \n",
              "\n",
              "   Thesis/IS  Result  \n",
              "0          1       0  \n",
              "1          1       0  \n",
              "2          0       1  \n",
              "3          1       0  \n",
              "4          1       0  \n",
              "5          0       1  \n",
              "6          1       1  \n",
              "7          1       1  \n",
              "8          1       1  \n",
              "9          0       1  "
            ],
            "text/html": [
              "\n",
              "  <div id=\"df-c88e65e5-4ec7-479b-8caf-0256c05311a9\">\n",
              "    <div class=\"colab-df-container\">\n",
              "      <div>\n",
              "<style scoped>\n",
              "    .dataframe tbody tr th:only-of-type {\n",
              "        vertical-align: middle;\n",
              "    }\n",
              "\n",
              "    .dataframe tbody tr th {\n",
              "        vertical-align: top;\n",
              "    }\n",
              "\n",
              "    .dataframe thead th {\n",
              "        text-align: right;\n",
              "    }\n",
              "</style>\n",
              "<table border=\"1\" class=\"dataframe\">\n",
              "  <thead>\n",
              "    <tr style=\"text-align: right;\">\n",
              "      <th></th>\n",
              "      <th>BSc</th>\n",
              "      <th>Gender</th>\n",
              "      <th>CGPA</th>\n",
              "      <th>Experience</th>\n",
              "      <th>Province</th>\n",
              "      <th>EnglishProficiencyCertificate</th>\n",
              "      <th>Thesis/IS</th>\n",
              "      <th>Result</th>\n",
              "    </tr>\n",
              "  </thead>\n",
              "  <tbody>\n",
              "    <tr>\n",
              "      <th>0</th>\n",
              "      <td>1</td>\n",
              "      <td>0</td>\n",
              "      <td>3.2</td>\n",
              "      <td>3</td>\n",
              "      <td>0</td>\n",
              "      <td>1</td>\n",
              "      <td>1</td>\n",
              "      <td>0</td>\n",
              "    </tr>\n",
              "    <tr>\n",
              "      <th>1</th>\n",
              "      <td>1</td>\n",
              "      <td>0</td>\n",
              "      <td>3.0</td>\n",
              "      <td>3</td>\n",
              "      <td>12</td>\n",
              "      <td>1</td>\n",
              "      <td>1</td>\n",
              "      <td>0</td>\n",
              "    </tr>\n",
              "    <tr>\n",
              "      <th>2</th>\n",
              "      <td>1</td>\n",
              "      <td>0</td>\n",
              "      <td>2.7</td>\n",
              "      <td>3</td>\n",
              "      <td>0</td>\n",
              "      <td>0</td>\n",
              "      <td>0</td>\n",
              "      <td>1</td>\n",
              "    </tr>\n",
              "    <tr>\n",
              "      <th>3</th>\n",
              "      <td>1</td>\n",
              "      <td>0</td>\n",
              "      <td>2.9</td>\n",
              "      <td>1</td>\n",
              "      <td>0</td>\n",
              "      <td>1</td>\n",
              "      <td>1</td>\n",
              "      <td>0</td>\n",
              "    </tr>\n",
              "    <tr>\n",
              "      <th>4</th>\n",
              "      <td>1</td>\n",
              "      <td>0</td>\n",
              "      <td>2.7</td>\n",
              "      <td>2</td>\n",
              "      <td>0</td>\n",
              "      <td>1</td>\n",
              "      <td>1</td>\n",
              "      <td>0</td>\n",
              "    </tr>\n",
              "    <tr>\n",
              "      <th>5</th>\n",
              "      <td>0</td>\n",
              "      <td>0</td>\n",
              "      <td>3.5</td>\n",
              "      <td>2</td>\n",
              "      <td>0</td>\n",
              "      <td>0</td>\n",
              "      <td>0</td>\n",
              "      <td>1</td>\n",
              "    </tr>\n",
              "    <tr>\n",
              "      <th>6</th>\n",
              "      <td>0</td>\n",
              "      <td>0</td>\n",
              "      <td>2.9</td>\n",
              "      <td>2</td>\n",
              "      <td>3</td>\n",
              "      <td>0</td>\n",
              "      <td>1</td>\n",
              "      <td>1</td>\n",
              "    </tr>\n",
              "    <tr>\n",
              "      <th>7</th>\n",
              "      <td>0</td>\n",
              "      <td>0</td>\n",
              "      <td>2.8</td>\n",
              "      <td>3</td>\n",
              "      <td>0</td>\n",
              "      <td>0</td>\n",
              "      <td>1</td>\n",
              "      <td>1</td>\n",
              "    </tr>\n",
              "    <tr>\n",
              "      <th>8</th>\n",
              "      <td>1</td>\n",
              "      <td>0</td>\n",
              "      <td>2.8</td>\n",
              "      <td>3</td>\n",
              "      <td>0</td>\n",
              "      <td>0</td>\n",
              "      <td>1</td>\n",
              "      <td>1</td>\n",
              "    </tr>\n",
              "    <tr>\n",
              "      <th>9</th>\n",
              "      <td>1</td>\n",
              "      <td>0</td>\n",
              "      <td>2.5</td>\n",
              "      <td>3</td>\n",
              "      <td>9</td>\n",
              "      <td>0</td>\n",
              "      <td>0</td>\n",
              "      <td>1</td>\n",
              "    </tr>\n",
              "  </tbody>\n",
              "</table>\n",
              "</div>\n",
              "      <button class=\"colab-df-convert\" onclick=\"convertToInteractive('df-c88e65e5-4ec7-479b-8caf-0256c05311a9')\"\n",
              "              title=\"Convert this dataframe to an interactive table.\"\n",
              "              style=\"display:none;\">\n",
              "        \n",
              "  <svg xmlns=\"http://www.w3.org/2000/svg\" height=\"24px\"viewBox=\"0 0 24 24\"\n",
              "       width=\"24px\">\n",
              "    <path d=\"M0 0h24v24H0V0z\" fill=\"none\"/>\n",
              "    <path d=\"M18.56 5.44l.94 2.06.94-2.06 2.06-.94-2.06-.94-.94-2.06-.94 2.06-2.06.94zm-11 1L8.5 8.5l.94-2.06 2.06-.94-2.06-.94L8.5 2.5l-.94 2.06-2.06.94zm10 10l.94 2.06.94-2.06 2.06-.94-2.06-.94-.94-2.06-.94 2.06-2.06.94z\"/><path d=\"M17.41 7.96l-1.37-1.37c-.4-.4-.92-.59-1.43-.59-.52 0-1.04.2-1.43.59L10.3 9.45l-7.72 7.72c-.78.78-.78 2.05 0 2.83L4 21.41c.39.39.9.59 1.41.59.51 0 1.02-.2 1.41-.59l7.78-7.78 2.81-2.81c.8-.78.8-2.07 0-2.86zM5.41 20L4 18.59l7.72-7.72 1.47 1.35L5.41 20z\"/>\n",
              "  </svg>\n",
              "      </button>\n",
              "      \n",
              "  <style>\n",
              "    .colab-df-container {\n",
              "      display:flex;\n",
              "      flex-wrap:wrap;\n",
              "      gap: 12px;\n",
              "    }\n",
              "\n",
              "    .colab-df-convert {\n",
              "      background-color: #E8F0FE;\n",
              "      border: none;\n",
              "      border-radius: 50%;\n",
              "      cursor: pointer;\n",
              "      display: none;\n",
              "      fill: #1967D2;\n",
              "      height: 32px;\n",
              "      padding: 0 0 0 0;\n",
              "      width: 32px;\n",
              "    }\n",
              "\n",
              "    .colab-df-convert:hover {\n",
              "      background-color: #E2EBFA;\n",
              "      box-shadow: 0px 1px 2px rgba(60, 64, 67, 0.3), 0px 1px 3px 1px rgba(60, 64, 67, 0.15);\n",
              "      fill: #174EA6;\n",
              "    }\n",
              "\n",
              "    [theme=dark] .colab-df-convert {\n",
              "      background-color: #3B4455;\n",
              "      fill: #D2E3FC;\n",
              "    }\n",
              "\n",
              "    [theme=dark] .colab-df-convert:hover {\n",
              "      background-color: #434B5C;\n",
              "      box-shadow: 0px 1px 3px 1px rgba(0, 0, 0, 0.15);\n",
              "      filter: drop-shadow(0px 1px 2px rgba(0, 0, 0, 0.3));\n",
              "      fill: #FFFFFF;\n",
              "    }\n",
              "  </style>\n",
              "\n",
              "      <script>\n",
              "        const buttonEl =\n",
              "          document.querySelector('#df-c88e65e5-4ec7-479b-8caf-0256c05311a9 button.colab-df-convert');\n",
              "        buttonEl.style.display =\n",
              "          google.colab.kernel.accessAllowed ? 'block' : 'none';\n",
              "\n",
              "        async function convertToInteractive(key) {\n",
              "          const element = document.querySelector('#df-c88e65e5-4ec7-479b-8caf-0256c05311a9');\n",
              "          const dataTable =\n",
              "            await google.colab.kernel.invokeFunction('convertToInteractive',\n",
              "                                                     [key], {});\n",
              "          if (!dataTable) return;\n",
              "\n",
              "          const docLinkHtml = 'Like what you see? Visit the ' +\n",
              "            '<a target=\"_blank\" href=https://colab.research.google.com/notebooks/data_table.ipynb>data table notebook</a>'\n",
              "            + ' to learn more about interactive tables.';\n",
              "          element.innerHTML = '';\n",
              "          dataTable['output_type'] = 'display_data';\n",
              "          await google.colab.output.renderOutput(dataTable, element);\n",
              "          const docLink = document.createElement('div');\n",
              "          docLink.innerHTML = docLinkHtml;\n",
              "          element.appendChild(docLink);\n",
              "        }\n",
              "      </script>\n",
              "    </div>\n",
              "  </div>\n",
              "  "
            ]
          },
          "metadata": {},
          "execution_count": 23
        }
      ]
    },
    {
      "cell_type": "markdown",
      "source": [
        "**3.2) Feature Selection with Chi-Square**"
      ],
      "metadata": {
        "id": "22xx2sQvSiFK"
      }
    },
    {
      "cell_type": "code",
      "source": [
        "#การเลือกคุณลักษณะ(Feature Selection) ที่สัมพันธ์กับผลลัพธ์ (Result)\n",
        "from sklearn.feature_selection import chi2\n",
        "studentdata.fillna(0, inplace=True)\n",
        "X = studentdata.drop('Result',axis=1)\n",
        "y = studentdata['Result']\n",
        "chi_scores = chi2(X,y)\n",
        "chi_scores"
      ],
      "metadata": {
        "colab": {
          "base_uri": "https://localhost:8080/"
        },
        "id": "QM0moileDRzW",
        "outputId": "6d9073e3-011e-46a5-ae3d-8c1beb7046f5"
      },
      "execution_count": null,
      "outputs": [
        {
          "output_type": "execute_result",
          "data": {
            "text/plain": [
              "(array([1.18463213e+01, 8.67814181e+00, 2.64262231e+00, 4.16646040e-02,\n",
              "        5.43372351e+00, 2.87576895e+01, 2.59544810e-02]),\n",
              " array([5.77753652e-04, 3.22049178e-03, 1.04031701e-01, 8.38260435e-01,\n",
              "        1.97515217e-02, 8.20235994e-08, 8.72011533e-01]))"
            ]
          },
          "metadata": {},
          "execution_count": 24
        }
      ]
    },
    {
      "cell_type": "code",
      "source": [
        "#การจัดเรียงลำดับความสำคัญของคุณลักษณะจากน้อยไปหามาก\n",
        "p_values = pd.Series(chi_scores[1],index = X.columns)\n",
        "p_values.sort_values(ascending = True , inplace = True)\n",
        "p_values"
      ],
      "metadata": {
        "id": "WW8pQY3UDUg4",
        "colab": {
          "base_uri": "https://localhost:8080/"
        },
        "outputId": "8b835c85-9e1b-4ff0-c650-baa50e1e09fb"
      },
      "execution_count": null,
      "outputs": [
        {
          "output_type": "execute_result",
          "data": {
            "text/plain": [
              "EnglishProficiencyCertificate    8.202360e-08\n",
              "BSc                              5.777537e-04\n",
              "Gender                           3.220492e-03\n",
              "Province                         1.975152e-02\n",
              "CGPA                             1.040317e-01\n",
              "Experience                       8.382604e-01\n",
              "Thesis/IS                        8.720115e-01\n",
              "dtype: float64"
            ]
          },
          "metadata": {},
          "execution_count": 25
        }
      ]
    },
    {
      "cell_type": "code",
      "source": [
        "#การสร้างกราฟแสดงคุณลักษณะจากน้อยไปหามาก\n",
        "p_values.plot.bar(figsize = (10,5), cmap=\"coolwarm\")\n",
        "plt.title('Chi-square test for feature selection', size=18)"
      ],
      "metadata": {
        "id": "4Kv8S0jODknM",
        "colab": {
          "base_uri": "https://localhost:8080/",
          "height": 490
        },
        "outputId": "70b5476e-9328-4110-dce7-28dfb9a588b6"
      },
      "execution_count": null,
      "outputs": [
        {
          "output_type": "execute_result",
          "data": {
            "text/plain": [
              "Text(0.5, 1.0, 'Chi-square test for feature selection')"
            ]
          },
          "metadata": {},
          "execution_count": 26
        },
        {
          "output_type": "display_data",
          "data": {
            "text/plain": [
              "<Figure size 720x360 with 1 Axes>"
            ],
            "image/png": "[encoded data removed]"
          },
          "metadata": {
            "needs_background": "light"
          }
        }
      ]
    },
    {
      "cell_type": "markdown",
      "source": [
        "**3.3) Remove Some Attributes After Ffeature Selection**"
      ],
      "metadata": {
        "id": "sI8bECKeSzE0"
      }
    },
    {
      "cell_type": "code",
      "source": [
        "#การลบคุณลักษณะที่ไม่สำคัญออกไปจากชุดข้อมูล\n",
        "newfeature = studentdata.columns.tolist()\n",
        "newfeature.remove('BSc') \n",
        "newfeature.remove('Gender') \n",
        "newfeature.remove('EnglishProficiencyCertificate') \n",
        "newfeature"
      ],
      "metadata": {
        "id": "bw_1zlewDoDQ",
        "colab": {
          "base_uri": "https://localhost:8080/"
        },
        "outputId": "b51c8de5-d3a8-43f5-9e95-ffcc5c0cc70d"
      },
      "execution_count": null,
      "outputs": [
        {
          "output_type": "execute_result",
          "data": {
            "text/plain": [
              "['CGPA', 'Experience', 'Province', 'Thesis/IS', 'Result']"
            ]
          },
          "metadata": {},
          "execution_count": 27
        }
      ]
    },
    {
      "cell_type": "markdown",
      "source": [
        "**4) Split Training and Testing Data Sets (80:20)**"
      ],
      "metadata": {
        "id": "dWuk_jozTDW3"
      }
    },
    {
      "cell_type": "code",
      "source": [
        "#การแบ่งชุดข้อมูลนักเรียนออกเป็น 80:20\n",
        "from sklearn.tree import DecisionTreeClassifier \n",
        "from sklearn.model_selection import train_test_split \n",
        "\n",
        "X_train, X_test, y_train, y_test = train_test_split(X, y, test_size=0.2, random_state=1)"
      ],
      "metadata": {
        "id": "aWAYHdWEDq5q"
      },
      "execution_count": null,
      "outputs": []
    },
    {
      "cell_type": "markdown",
      "source": [
        "**5) Creating a Decision Tree Model**"
      ],
      "metadata": {
        "id": "M35zGpoLTI3A"
      }
    },
    {
      "cell_type": "code",
      "source": [
        "#การสร้างแบบจำลองต้นไม้ตัดสินใจ (Decision Tree)\n",
        "modelDT = DecisionTreeClassifier(random_state=43)\n",
        "#การฝึกสอนข้อมูล\n",
        "modelDT.fit(X_train,y_train)\n",
        "#การทำนายข้อมูล\n",
        "predictions = modelDT.predict(X_test)"
      ],
      "metadata": {
        "id": "Ki-8TMdTDsMT"
      },
      "execution_count": null,
      "outputs": []
    },
    {
      "cell_type": "markdown",
      "source": [
        "**6) Evaluation Model (Confusion Matrix)**"
      ],
      "metadata": {
        "id": "hP3UdiE0TYFH"
      }
    },
    {
      "cell_type": "code",
      "source": [
        "#การสร้างคอนฟิวชันเมทริกซ์ เพื่อแสดงความถูกต้อง แม่นยำ และความครบถ้วนของแบบจำลอง\n",
        "from sklearn.metrics import classification_report, confusion_matrix, accuracy_score \n",
        "\n",
        "print(confusion_matrix(y_test, predictions)) \n",
        "print(classification_report(y_test, predictions)) \n",
        "print(accuracy_score(y_test, predictions))"
      ],
      "metadata": {
        "id": "SEs8gpZvD2Jw",
        "colab": {
          "base_uri": "https://localhost:8080/"
        },
        "outputId": "a6cb3679-e05d-4028-a1a0-75b5393853eb"
      },
      "execution_count": null,
      "outputs": [
        {
          "output_type": "stream",
          "name": "stdout",
          "text": [
            "[[25  4]\n",
            " [ 7 14]]\n",
            "              precision    recall  f1-score   support\n",
            "\n",
            "           0       0.78      0.86      0.82        29\n",
            "           1       0.78      0.67      0.72        21\n",
            "\n",
            "    accuracy                           0.78        50\n",
            "   macro avg       0.78      0.76      0.77        50\n",
            "weighted avg       0.78      0.78      0.78        50\n",
            "\n",
            "0.78\n"
          ]
        }
      ]
    },
    {
      "cell_type": "markdown",
      "source": [
        "**6) Visualizing Decision Tree**"
      ],
      "metadata": {
        "id": "XVM2oSffT4rb"
      }
    },
    {
      "cell_type": "code",
      "source": [
        "#การสร้างภาพต้นไม่้ตัดสินใจ\n",
        "from sklearn.tree import export_graphviz\n",
        "from sklearn import tree\n",
        "import graphviz\n",
        "\n",
        "cols = list(X_train.columns.values)\n",
        "dot_data = tree.export_graphviz(modelDT, out_file=None,feature_names  = cols)  \n",
        "\n",
        "\n",
        "graph = graphviz.Source(dot_data, format=\"png\") \n",
        "graph\n",
        "\n",
        "plt.savefig('tree_visualization.png')\n",
        "\n",
        "graph.render(\"decision_tree_graphivz\")\n"
      ],
      "metadata": {
        "colab": {
          "base_uri": "https://localhost:8080/",
          "height": 52
        },
        "id": "ocGMQJlsjAPe",
        "outputId": "c0e75f5e-5a70-4274-a60c-0ef3b2a4f4dc"
      },
      "execution_count": null,
      "outputs": [
        {
          "output_type": "execute_result",
          "data": {
            "text/plain": [
              "'decision_tree_graphivz.png'"
            ],
            "application/vnd.google.colaboratory.intrinsic+json": {
              "type": "string"
            }
          },
          "metadata": {},
          "execution_count": 31
        },
        {
          "output_type": "display_data",
          "data": {
            "text/plain": [
              "<Figure size 432x288 with 0 Axes>"
            ]
          },
          "metadata": {}
        }
      ]
    },
    {
      "cell_type": "markdown",
      "source": [
        "**7) Testing the Predictive Model with Unseen Data**"
      ],
      "metadata": {
        "id": "SyWlw_qXUUIy"
      }
    },
    {
      "cell_type": "code",
      "source": [
        "#การสร้างการทดสอบข้อมูลใหม่\n",
        "studentdata1 = pd.read_excel('/content/sample_data/study42Y_Test.xlsx')\n",
        "studentdata1.head(5)"
      ],
      "metadata": {
        "colab": {
          "base_uri": "https://localhost:8080/",
          "height": 175
        },
        "id": "oeuzQuzQ6peI",
        "outputId": "1a3188ef-a136-41d3-a034-3a9884500718"
      },
      "execution_count": null,
      "outputs": [
        {
          "output_type": "execute_result",
          "data": {
            "text/plain": [
              "   BSc  Gender  CGPA  Experience  Province  EnglishProficiencyCertificate  \\\n",
              "0    1       0   2.3           2         0                              0   \n",
              "1    1       1   3.5           1        12                              0   \n",
              "2    0       1   2.4           3         0                              0   \n",
              "3    0       0   2.2           1         3                              1   \n",
              "\n",
              "   Thesis/IS  \n",
              "0          0  \n",
              "1          0  \n",
              "2          1  \n",
              "3          1  "
            ],
            "text/html": [
              "\n",
              "  <div id=\"df-89605cc6-07da-496d-a2a2-ed9298c4a7ae\">\n",
              "    <div class=\"colab-df-container\">\n",
              "      <div>\n",
              "<style scoped>\n",
              "    .dataframe tbody tr th:only-of-type {\n",
              "        vertical-align: middle;\n",
              "    }\n",
              "\n",
              "    .dataframe tbody tr th {\n",
              "        vertical-align: top;\n",
              "    }\n",
              "\n",
              "    .dataframe thead th {\n",
              "        text-align: right;\n",
              "    }\n",
              "</style>\n",
              "<table border=\"1\" class=\"dataframe\">\n",
              "  <thead>\n",
              "    <tr style=\"text-align: right;\">\n",
              "      <th></th>\n",
              "      <th>BSc</th>\n",
              "      <th>Gender</th>\n",
              "      <th>CGPA</th>\n",
              "      <th>Experience</th>\n",
              "      <th>Province</th>\n",
              "      <th>EnglishProficiencyCertificate</th>\n",
              "      <th>Thesis/IS</th>\n",
              "    </tr>\n",
              "  </thead>\n",
              "  <tbody>\n",
              "    <tr>\n",
              "      <th>0</th>\n",
              "      <td>1</td>\n",
              "      <td>0</td>\n",
              "      <td>2.3</td>\n",
              "      <td>2</td>\n",
              "      <td>0</td>\n",
              "      <td>0</td>\n",
              "      <td>0</td>\n",
              "    </tr>\n",
              "    <tr>\n",
              "      <th>1</th>\n",
              "      <td>1</td>\n",
              "      <td>1</td>\n",
              "      <td>3.5</td>\n",
              "      <td>1</td>\n",
              "      <td>12</td>\n",
              "      <td>0</td>\n",
              "      <td>0</td>\n",
              "    </tr>\n",
              "    <tr>\n",
              "      <th>2</th>\n",
              "      <td>0</td>\n",
              "      <td>1</td>\n",
              "      <td>2.4</td>\n",
              "      <td>3</td>\n",
              "      <td>0</td>\n",
              "      <td>0</td>\n",
              "      <td>1</td>\n",
              "    </tr>\n",
              "    <tr>\n",
              "      <th>3</th>\n",
              "      <td>0</td>\n",
              "      <td>0</td>\n",
              "      <td>2.2</td>\n",
              "      <td>1</td>\n",
              "      <td>3</td>\n",
              "      <td>1</td>\n",
              "      <td>1</td>\n",
              "    </tr>\n",
              "  </tbody>\n",
              "</table>\n",
              "</div>\n",
              "      <button class=\"colab-df-convert\" onclick=\"convertToInteractive('df-89605cc6-07da-496d-a2a2-ed9298c4a7ae')\"\n",
              "              title=\"Convert this dataframe to an interactive table.\"\n",
              "              style=\"display:none;\">\n",
              "        \n",
              "  <svg xmlns=\"http://www.w3.org/2000/svg\" height=\"24px\"viewBox=\"0 0 24 24\"\n",
              "       width=\"24px\">\n",
              "    <path d=\"M0 0h24v24H0V0z\" fill=\"none\"/>\n",
              "    <path d=\"M18.56 5.44l.94 2.06.94-2.06 2.06-.94-2.06-.94-.94-2.06-.94 2.06-2.06.94zm-11 1L8.5 8.5l.94-2.06 2.06-.94-2.06-.94L8.5 2.5l-.94 2.06-2.06.94zm10 10l.94 2.06.94-2.06 2.06-.94-2.06-.94-.94-2.06-.94 2.06-2.06.94z\"/><path d=\"M17.41 7.96l-1.37-1.37c-.4-.4-.92-.59-1.43-.59-.52 0-1.04.2-1.43.59L10.3 9.45l-7.72 7.72c-.78.78-.78 2.05 0 2.83L4 21.41c.39.39.9.59 1.41.59.51 0 1.02-.2 1.41-.59l7.78-7.78 2.81-2.81c.8-.78.8-2.07 0-2.86zM5.41 20L4 18.59l7.72-7.72 1.47 1.35L5.41 20z\"/>\n",
              "  </svg>\n",
              "      </button>\n",
              "      \n",
              "  <style>\n",
              "    .colab-df-container {\n",
              "      display:flex;\n",
              "      flex-wrap:wrap;\n",
              "      gap: 12px;\n",
              "    }\n",
              "\n",
              "    .colab-df-convert {\n",
              "      background-color: #E8F0FE;\n",
              "      border: none;\n",
              "      border-radius: 50%;\n",
              "      cursor: pointer;\n",
              "      display: none;\n",
              "      fill: #1967D2;\n",
              "      height: 32px;\n",
              "      padding: 0 0 0 0;\n",
              "      width: 32px;\n",
              "    }\n",
              "\n",
              "    .colab-df-convert:hover {\n",
              "      background-color: #E2EBFA;\n",
              "      box-shadow: 0px 1px 2px rgba(60, 64, 67, 0.3), 0px 1px 3px 1px rgba(60, 64, 67, 0.15);\n",
              "      fill: #174EA6;\n",
              "    }\n",
              "\n",
              "    [theme=dark] .colab-df-convert {\n",
              "      background-color: #3B4455;\n",
              "      fill: #D2E3FC;\n",
              "    }\n",
              "\n",
              "    [theme=dark] .colab-df-convert:hover {\n",
              "      background-color: #434B5C;\n",
              "      box-shadow: 0px 1px 3px 1px rgba(0, 0, 0, 0.15);\n",
              "      filter: drop-shadow(0px 1px 2px rgba(0, 0, 0, 0.3));\n",
              "      fill: #FFFFFF;\n",
              "    }\n",
              "  </style>\n",
              "\n",
              "      <script>\n",
              "        const buttonEl =\n",
              "          document.querySelector('#df-89605cc6-07da-496d-a2a2-ed9298c4a7ae button.colab-df-convert');\n",
              "        buttonEl.style.display =\n",
              "          google.colab.kernel.accessAllowed ? 'block' : 'none';\n",
              "\n",
              "        async function convertToInteractive(key) {\n",
              "          const element = document.querySelector('#df-89605cc6-07da-496d-a2a2-ed9298c4a7ae');\n",
              "          const dataTable =\n",
              "            await google.colab.kernel.invokeFunction('convertToInteractive',\n",
              "                                                     [key], {});\n",
              "          if (!dataTable) return;\n",
              "\n",
              "          const docLinkHtml = 'Like what you see? Visit the ' +\n",
              "            '<a target=\"_blank\" href=https://colab.research.google.com/notebooks/data_table.ipynb>data table notebook</a>'\n",
              "            + ' to learn more about interactive tables.';\n",
              "          element.innerHTML = '';\n",
              "          dataTable['output_type'] = 'display_data';\n",
              "          await google.colab.output.renderOutput(dataTable, element);\n",
              "          const docLink = document.createElement('div');\n",
              "          docLink.innerHTML = docLinkHtml;\n",
              "          element.appendChild(docLink);\n",
              "        }\n",
              "      </script>\n",
              "    </div>\n",
              "  </div>\n",
              "  "
            ]
          },
          "metadata": {},
          "execution_count": 32
        }
      ]
    },
    {
      "cell_type": "markdown",
      "source": [
        "**8) Saving Prediction Result to Excel (Display_ResultDT.xlsx)**"
      ],
      "metadata": {
        "id": "nmExJcnqUnFm"
      }
    },
    {
      "cell_type": "code",
      "source": [
        "#การทำนายชุดข้อมูลใหม่\n",
        "test_predict = modelDT.predict(X=studentdata1)\n",
        "\n",
        "# Create a submission for Kaggle\n",
        "submission = pd.DataFrame({\"Result\":test_predict})\n",
        "\n",
        "# Save submission to CSV\n",
        "submission.to_excel(\"Display_ResultDT.xlsx\", index=False)  \n"
      ],
      "metadata": {
        "id": "zMOoXm4K7mE8"
      },
      "execution_count": null,
      "outputs": []
    },
    {
      "cell_type": "markdown",
      "source": [
        "## **END**"
      ],
      "metadata": {
        "id": "rSdpMakbVVo5"
      }
    }
  ]
}